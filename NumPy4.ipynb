{
  "nbformat": 4,
  "nbformat_minor": 0,
  "metadata": {
    "colab": {
      "provenance": [],
      "authorship_tag": "ABX9TyNYhAoP8HzIGa/7PfHgi6mE",
      "include_colab_link": true
    },
    "kernelspec": {
      "name": "python3",
      "display_name": "Python 3"
    },
    "language_info": {
      "name": "python"
    }
  },
  "cells": [
    {
      "cell_type": "markdown",
      "metadata": {
        "id": "view-in-github",
        "colab_type": "text"
      },
      "source": [
        "<a href=\"https://colab.research.google.com/github/RadoslawKieronski/BashScripts/blob/main/NumPy4.ipynb\" target=\"_parent\"><img src=\"https://colab.research.google.com/assets/colab-badge.svg\" alt=\"Open In Colab\"/></a>"
      ]
    },
    {
      "cell_type": "code",
      "execution_count": null,
      "metadata": {
        "id": "pH6jLzuRhV25"
      },
      "outputs": [],
      "source": [
        "# GENEROWANIE LICZB PSEUDOLOSOWYCH\n",
        "import numpy as np"
      ]
    },
    {
      "cell_type": "code",
      "source": [
        "# wygenerowanie liczb za pomocą modułu 'random'"
      ],
      "metadata": {
        "id": "jiev4ZuEhbrC"
      },
      "execution_count": null,
      "outputs": []
    },
    {
      "cell_type": "code",
      "source": [
        "# wygenerowanie liczb za pomocą funkcji 'randn' rozkładu normalnego\n",
        "np.random.randn()"
      ],
      "metadata": {
        "colab": {
          "base_uri": "https://localhost:8080/"
        },
        "id": "x8WCyaAmhyKr",
        "outputId": "79a11313-d55f-4234-fa89-2627bd674a1e"
      },
      "execution_count": null,
      "outputs": [
        {
          "output_type": "execute_result",
          "data": {
            "text/plain": [
              "-1.0531792314479151"
            ]
          },
          "metadata": {},
          "execution_count": 14
        }
      ]
    },
    {
      "cell_type": "code",
      "source": [
        "# Zwróci tablicę 10-ciu losowo wygenerowanych elementów z rozkładu normalnego, standardowego. Czyli o średniej 0 i odchyleniu standardowym 1.\n",
        "np.random.randn(10)"
      ],
      "metadata": {
        "colab": {
          "base_uri": "https://localhost:8080/"
        },
        "id": "Srv-_sDHh79q",
        "outputId": "4a59ca67-804c-41fa-c4c6-70c1a62678c8"
      },
      "execution_count": null,
      "outputs": [
        {
          "output_type": "execute_result",
          "data": {
            "text/plain": [
              "array([-0.09354131, -1.23037914, -0.95573714, -1.35385098, -0.46294662,\n",
              "       -1.36197753,  0.48816221, -0.04141145, -0.41711536, -0.04974967])"
            ]
          },
          "metadata": {},
          "execution_count": 17
        }
      ]
    },
    {
      "cell_type": "code",
      "source": [
        "# tab 10 wier, 4 kol\n",
        "np.random.randn(10, 4)"
      ],
      "metadata": {
        "colab": {
          "base_uri": "https://localhost:8080/"
        },
        "id": "R1AVZrFeiSLt",
        "outputId": "f7b1c6fc-8fc5-491c-b329-5ea7be20f17b"
      },
      "execution_count": null,
      "outputs": [
        {
          "output_type": "execute_result",
          "data": {
            "text/plain": [
              "array([[-0.52897896, -0.14122891,  2.85506354,  1.53046193],\n",
              "       [ 0.71854953, -0.36312815, -0.45611016, -0.31257057],\n",
              "       [-0.52509529, -0.2122664 ,  1.68498512, -0.85855468],\n",
              "       [ 0.30364567, -0.10802345,  1.60823108, -0.48100553],\n",
              "       [ 0.66130302, -1.03536623, -0.91416652, -0.30808941],\n",
              "       [ 0.36501894,  0.09655396,  1.15453133,  1.2155702 ],\n",
              "       [-0.21370129,  0.21549387,  0.51259949, -1.03577615],\n",
              "       [-0.44528117, -0.06621294,  1.06774795, -2.36171668],\n",
              "       [ 0.49564627,  0.88729126,  0.42890503, -0.63614094],\n",
              "       [-0.4391224 , -1.11709963,  0.66618059,  0.0091208 ]])"
            ]
          },
          "metadata": {},
          "execution_count": 19
        }
      ]
    },
    {
      "cell_type": "code",
      "source": [
        "# Funkcja 'rand' zwróci wartość z przedziału 0 i 1\n",
        "np.random.rand()"
      ],
      "metadata": {
        "colab": {
          "base_uri": "https://localhost:8080/"
        },
        "id": "pmNgui_ijCBw",
        "outputId": "673cf4bc-b02c-4e10-97a8-0387f452b229"
      },
      "execution_count": null,
      "outputs": [
        {
          "output_type": "execute_result",
          "data": {
            "text/plain": [
              "0.5664570098585986"
            ]
          },
          "metadata": {},
          "execution_count": 21
        }
      ]
    },
    {
      "cell_type": "code",
      "source": [
        "np.random.rand(10)"
      ],
      "metadata": {
        "colab": {
          "base_uri": "https://localhost:8080/"
        },
        "id": "_5gUrxuAjfIe",
        "outputId": "c838af22-25d2-420a-e5f7-49b70313ed7d"
      },
      "execution_count": null,
      "outputs": [
        {
          "output_type": "execute_result",
          "data": {
            "text/plain": [
              "array([0.70564778, 0.36831739, 0.88002785, 0.01594248, 0.7569134 ,\n",
              "       0.58622063, 0.29908624, 0.99559198, 0.88666334, 0.85051323])"
            ]
          },
          "metadata": {},
          "execution_count": 23
        }
      ]
    },
    {
      "cell_type": "code",
      "source": [
        "np.random.rand(10, 2)"
      ],
      "metadata": {
        "colab": {
          "base_uri": "https://localhost:8080/"
        },
        "id": "HqC5P9RljlFo",
        "outputId": "412038e9-c96a-4747-9d73-1e2549a4f4d4"
      },
      "execution_count": null,
      "outputs": [
        {
          "output_type": "execute_result",
          "data": {
            "text/plain": [
              "array([[3.36078254e-01, 7.99648106e-01],\n",
              "       [4.79681903e-01, 7.91232304e-04],\n",
              "       [7.84574117e-01, 6.71806717e-01],\n",
              "       [3.07417710e-01, 7.32024896e-02],\n",
              "       [3.26138415e-01, 1.60560091e-01],\n",
              "       [2.08666207e-02, 7.32332565e-03],\n",
              "       [8.90083921e-01, 2.20209475e-01],\n",
              "       [7.56729266e-01, 8.23039425e-01],\n",
              "       [9.04783282e-01, 1.33209914e-01],\n",
              "       [8.46706591e-01, 1.27936787e-01]])"
            ]
          },
          "metadata": {},
          "execution_count": 24
        }
      ]
    },
    {
      "cell_type": "code",
      "source": [
        "# zwróci liczbę z przedziału 0-10\n",
        "np.random.randint(10)"
      ],
      "metadata": {
        "colab": {
          "base_uri": "https://localhost:8080/"
        },
        "id": "qC37vOtBjr1W",
        "outputId": "c7d6fe2a-ed01-4a87-a254-79128465c848"
      },
      "execution_count": null,
      "outputs": [
        {
          "output_type": "execute_result",
          "data": {
            "text/plain": [
              "1"
            ]
          },
          "metadata": {},
          "execution_count": 26
        }
      ]
    },
    {
      "cell_type": "code",
      "source": [
        "# losowa liczba z przedziału 10-101\n",
        "np.random.randint(low=10, high=101)"
      ],
      "metadata": {
        "colab": {
          "base_uri": "https://localhost:8080/"
        },
        "id": "QMXQ71EAjynf",
        "outputId": "ec0556b2-f1d2-48e0-db09-ce2f8612a8f2"
      },
      "execution_count": null,
      "outputs": [
        {
          "output_type": "execute_result",
          "data": {
            "text/plain": [
              "79"
            ]
          },
          "metadata": {},
          "execution_count": 30
        }
      ]
    },
    {
      "cell_type": "code",
      "source": [
        "# wygeneruje 4 losowe liczby z przedziału 10-101\n",
        "np.random.randint(low=10, high=101, size=4)"
      ],
      "metadata": {
        "colab": {
          "base_uri": "https://localhost:8080/"
        },
        "id": "feRGgXO0kITE",
        "outputId": "095f66ab-56e9-4454-fc57-f3c81245c562"
      },
      "execution_count": null,
      "outputs": [
        {
          "output_type": "execute_result",
          "data": {
            "text/plain": [
              "array([35, 32, 42, 34])"
            ]
          },
          "metadata": {},
          "execution_count": 34
        }
      ]
    },
    {
      "cell_type": "code",
      "source": [
        "# metoda 'choice' zwróci losowy element z podanej listy\n",
        "np.random.choice([1, 2, 3, 5])"
      ],
      "metadata": {
        "colab": {
          "base_uri": "https://localhost:8080/"
        },
        "id": "zlIY6GnMkf-d",
        "outputId": "b286529b-fefd-4cce-8e9c-bc6c9e733d89"
      },
      "execution_count": null,
      "outputs": [
        {
          "output_type": "execute_result",
          "data": {
            "text/plain": [
              "2"
            ]
          },
          "metadata": {},
          "execution_count": 38
        }
      ]
    },
    {
      "cell_type": "code",
      "source": [
        "data = np.arange(10)\n",
        "data"
      ],
      "metadata": {
        "colab": {
          "base_uri": "https://localhost:8080/"
        },
        "id": "YyZpAf4hkruV",
        "outputId": "6db25a03-c372-478a-ee88-d9cbf6e7c0d5"
      },
      "execution_count": null,
      "outputs": [
        {
          "output_type": "execute_result",
          "data": {
            "text/plain": [
              "array([0, 1, 2, 3, 4, 5, 6, 7, 8, 9])"
            ]
          },
          "metadata": {},
          "execution_count": 41
        }
      ]
    },
    {
      "cell_type": "code",
      "source": [
        "# metoda 'shuffle' przetasuje tablice\n",
        "np.random.shuffle(data)\n",
        "data"
      ],
      "metadata": {
        "colab": {
          "base_uri": "https://localhost:8080/"
        },
        "id": "UlXQrkLulRmt",
        "outputId": "b1c16e81-c517-4463-8199-62a9adc62c48"
      },
      "execution_count": null,
      "outputs": [
        {
          "output_type": "execute_result",
          "data": {
            "text/plain": [
              "array([1, 2, 3, 5, 0, 9, 7, 4, 8, 6])"
            ]
          },
          "metadata": {},
          "execution_count": 44
        }
      ]
    },
    {
      "cell_type": "code",
      "source": [],
      "metadata": {
        "id": "s2_xbye3lXVw"
      },
      "execution_count": null,
      "outputs": []
    }
  ]
}